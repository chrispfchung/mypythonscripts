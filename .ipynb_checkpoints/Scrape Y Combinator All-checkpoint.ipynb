{
 "cells": [
  {
   "cell_type": "markdown",
   "metadata": {},
   "source": [
    "## Scraped Y Combinator's Top Companies and Added Data Into Excel"
   ]
  },
  {
   "cell_type": "code",
   "execution_count": 1,
   "metadata": {},
   "outputs": [],
   "source": [
    "import csv\n",
    "import requests\n",
    "import urllib.request\n",
    "from bs4 import BeautifulSoup\n",
    "\n",
    "url = 'https://www.ycombinator.com/topcompanies/'\n",
    "response = requests.get(url)\n",
    "html = response.content\n",
    "\n",
    "soup = BeautifulSoup(html)"
   ]
  },
  {
   "cell_type": "code",
   "execution_count": 2,
   "metadata": {},
   "outputs": [],
   "source": [
    "mydivs = soup.findAll(\"div\", class_=\"detailsBox\")"
   ]
  },
  {
   "cell_type": "markdown",
   "metadata": {},
   "source": [
    "### All Companies"
   ]
  },
  {
   "cell_type": "code",
   "execution_count": 20,
   "metadata": {},
   "outputs": [],
   "source": [
    "company = []\n",
    "for divs in range(len(mydivs)):\n",
    "    company.append(mydivs[divs].find('b', class_='h4').text)\n",
    "#company"
   ]
  },
  {
   "cell_type": "markdown",
   "metadata": {},
   "source": [
    "### Company Rank"
   ]
  },
  {
   "cell_type": "code",
   "execution_count": 4,
   "metadata": {},
   "outputs": [
    {
     "data": {
      "text/plain": [
       "'#01'"
      ]
     },
     "execution_count": 4,
     "metadata": {},
     "output_type": "execute_result"
    }
   ],
   "source": [
    "mydivs[0].span.text"
   ]
  },
  {
   "cell_type": "code",
   "execution_count": 5,
   "metadata": {
    "scrolled": true
   },
   "outputs": [
    {
     "data": {
      "text/plain": [
       "'#01'"
      ]
     },
     "execution_count": 5,
     "metadata": {},
     "output_type": "execute_result"
    }
   ],
   "source": [
    "rank = mydivs[0].findAll(text=True)[1]\n",
    "rank = mydivs[0].find('span').text\n",
    "rank"
   ]
  },
  {
   "cell_type": "code",
   "execution_count": 6,
   "metadata": {},
   "outputs": [
    {
     "data": {
      "text/plain": [
       "['#01',\n",
       " '#02',\n",
       " '#03',\n",
       " '#04',\n",
       " '#05',\n",
       " '#06',\n",
       " '#07',\n",
       " '#08',\n",
       " '#09',\n",
       " '#10',\n",
       " '#11',\n",
       " '#12',\n",
       " '#13',\n",
       " '#14',\n",
       " '#15',\n",
       " '#16',\n",
       " '#17',\n",
       " '#18',\n",
       " '#19',\n",
       " '#20',\n",
       " '#21',\n",
       " '#22',\n",
       " '#23',\n",
       " '#24',\n",
       " '#25',\n",
       " '#26',\n",
       " '#27',\n",
       " '#28',\n",
       " '#29',\n",
       " '#30',\n",
       " '#31',\n",
       " '#32',\n",
       " '#33',\n",
       " '#34',\n",
       " '#35',\n",
       " '#36',\n",
       " '#37',\n",
       " '#38',\n",
       " '#39',\n",
       " '#40',\n",
       " '#41',\n",
       " '#42',\n",
       " '#43',\n",
       " '#44',\n",
       " '#45',\n",
       " '#46',\n",
       " '#47',\n",
       " '#48',\n",
       " '#49',\n",
       " '#50',\n",
       " '#51',\n",
       " '#52',\n",
       " '#53',\n",
       " '#54',\n",
       " '#55',\n",
       " '#56',\n",
       " '#57',\n",
       " '#58',\n",
       " '#59',\n",
       " '#60',\n",
       " '#61',\n",
       " '#62',\n",
       " '#63',\n",
       " '#64',\n",
       " '#65',\n",
       " '#66',\n",
       " '#67',\n",
       " '#68',\n",
       " '#69',\n",
       " '#70',\n",
       " '#71',\n",
       " '#72',\n",
       " '#73',\n",
       " '#74',\n",
       " '#75',\n",
       " '#76',\n",
       " '#77',\n",
       " '#78',\n",
       " '#79',\n",
       " '#80',\n",
       " '#81',\n",
       " '#82',\n",
       " '#83',\n",
       " '#84',\n",
       " '#85',\n",
       " '#86',\n",
       " '#87',\n",
       " '#88',\n",
       " '#89',\n",
       " '#90',\n",
       " '#91',\n",
       " '#92',\n",
       " '#93',\n",
       " '#94',\n",
       " '#95',\n",
       " '#96',\n",
       " '#97',\n",
       " '#98',\n",
       " '#99',\n",
       " '#100',\n",
       " '#101',\n",
       " '#102']"
      ]
     },
     "execution_count": 6,
     "metadata": {},
     "output_type": "execute_result"
    }
   ],
   "source": [
    "ranks = []\n",
    "for divs in range(len(mydivs)):\n",
    "    ranks.append(mydivs[divs].span.text)\n",
    "ranks"
   ]
  },
  {
   "cell_type": "markdown",
   "metadata": {},
   "source": [
    "### Founders"
   ]
  },
  {
   "cell_type": "code",
   "execution_count": 7,
   "metadata": {},
   "outputs": [],
   "source": [
    "# founders_title = mydivs[0].findAll('h6')[1].text"
   ]
  },
  {
   "cell_type": "code",
   "execution_count": 8,
   "metadata": {},
   "outputs": [
    {
     "data": {
      "text/plain": [
       "[]"
      ]
     },
     "execution_count": 8,
     "metadata": {},
     "output_type": "execute_result"
    }
   ],
   "source": [
    "list_founders = mydivs[0].findAll('li')\n",
    "#create bs4 founders list\n",
    "len(list_founders)\n",
    "#number of founders\n",
    "founders = []\n",
    "for founder_number in range(len(list_founders)):\n",
    "    founders.append(list_founders[founder_number].text)\n",
    "founders\n",
    "#iterate through list of bs4 formatted founders and create new list"
   ]
  },
  {
   "cell_type": "code",
   "execution_count": 9,
   "metadata": {},
   "outputs": [
    {
     "data": {
      "text/plain": [
       "'Patrick Collison and John Collison'"
      ]
     },
     "execution_count": 9,
     "metadata": {},
     "output_type": "execute_result"
    }
   ],
   "source": [
    "#One set of founders for a company\n",
    "mydivs[0].findAll('p', class_='margin-bottom-15')[1].text"
   ]
  },
  {
   "cell_type": "code",
   "execution_count": 10,
   "metadata": {},
   "outputs": [],
   "source": [
    "# All founders\n",
    "founders = []\n",
    "for i in range(len(mydivs)):\n",
    "    founders.append(mydivs[i].findAll('p', class_='margin-bottom-15')[1].text)"
   ]
  },
  {
   "cell_type": "markdown",
   "metadata": {},
   "source": [
    "### Sector"
   ]
  },
  {
   "cell_type": "code",
   "execution_count": 11,
   "metadata": {},
   "outputs": [
    {
     "data": {
      "text/plain": [
       "<p>Financial Technology and Services</p>"
      ]
     },
     "execution_count": 11,
     "metadata": {},
     "output_type": "execute_result"
    }
   ],
   "source": [
    "# One sector for a company\n",
    "mydivs[0].findAll('p')[3]"
   ]
  },
  {
   "cell_type": "code",
   "execution_count": 12,
   "metadata": {
    "scrolled": true
   },
   "outputs": [],
   "source": [
    "# all sectors\n",
    "sectors = []\n",
    "for i in range(len(mydivs)):\n",
    "    sectors.append(mydivs[i].findAll('p')[3].text)"
   ]
  },
  {
   "cell_type": "markdown",
   "metadata": {},
   "source": [
    "### Jobs Created"
   ]
  },
  {
   "cell_type": "code",
   "execution_count": 13,
   "metadata": {},
   "outputs": [
    {
     "data": {
      "text/plain": [
       "['2000',\n",
       " '6000',\n",
       " '1500',\n",
       " '1800',\n",
       " '1000',\n",
       " '1100',\n",
       " '2300',\n",
       " '270',\n",
       " '1000',\n",
       " '1700',\n",
       " '3900',\n",
       " '300',\n",
       " '500',\n",
       " '842',\n",
       " '524',\n",
       " '400',\n",
       " '440',\n",
       " '400',\n",
       " '90',\n",
       " '240',\n",
       " '1500',\n",
       " '450',\n",
       " '475',\n",
       " '300',\n",
       " '506',\n",
       " '150',\n",
       " '2000',\n",
       " '1122',\n",
       " '338',\n",
       " '650',\n",
       " '250',\n",
       " '300',\n",
       " '90',\n",
       " '250',\n",
       " '70',\n",
       " '55',\n",
       " '800',\n",
       " '150',\n",
       " '120',\n",
       " '400',\n",
       " '160',\n",
       " '510',\n",
       " '300',\n",
       " '100',\n",
       " '650',\n",
       " '150',\n",
       " '130',\n",
       " '160',\n",
       " '150',\n",
       " '130',\n",
       " '125',\n",
       " '350',\n",
       " '170',\n",
       " '870',\n",
       " '300',\n",
       " '190',\n",
       " '500',\n",
       " '80',\n",
       " '300',\n",
       " '300',\n",
       " '500',\n",
       " '250',\n",
       " '52',\n",
       " '170',\n",
       " '150',\n",
       " '400',\n",
       " '200',\n",
       " '160',\n",
       " '165',\n",
       " '150',\n",
       " '300',\n",
       " '360',\n",
       " '140',\n",
       " '450',\n",
       " '630',\n",
       " '200',\n",
       " '155',\n",
       " '267',\n",
       " '90',\n",
       " '220',\n",
       " '31',\n",
       " '250',\n",
       " '300',\n",
       " '165',\n",
       " '200',\n",
       " '135',\n",
       " '4485',\n",
       " '500',\n",
       " '100',\n",
       " '100',\n",
       " '200',\n",
       " '270',\n",
       " '80',\n",
       " '92',\n",
       " '35',\n",
       " '40',\n",
       " '120',\n",
       " '140',\n",
       " '85',\n",
       " '35',\n",
       " '140',\n",
       " '15']"
      ]
     },
     "execution_count": 13,
     "metadata": {},
     "output_type": "execute_result"
    }
   ],
   "source": [
    "# all sectors\n",
    "jobs_created = []\n",
    "for i in range(len(mydivs)):\n",
    "    jobs_created.append(mydivs[i].findAll('p')[4].text)\n",
    "jobs_created"
   ]
  },
  {
   "cell_type": "markdown",
   "metadata": {},
   "source": [
    "### Company Description"
   ]
  },
  {
   "cell_type": "code",
   "execution_count": 14,
   "metadata": {},
   "outputs": [
    {
     "data": {
      "text/plain": [
       "<div class=\"detailsBox\"> <span class=\"rank\">#01</span> <a class=\"mobile-apply\" href=\"https://stripe.com/jobs\">APPLY</a> <div class=\"intro\"> <div class=\"sideImage\"><img alt=\"Stripe logo\" class=\"img-responsive\" src=\"/images/topcompanies/logo_stripe-de67cbc0.png\"/></div> <div class=\"site\"><b class=\"h4\">Stripe</b><a href=\"https://stripe.com/\"></a>stripe.com</div> </div> <p class=\"margin-bottom-15\">Stripe builds economic infrastructure for the internet. Businesses of every size use the company’s software to accept online payments and run technically sophisticated financial operations in more than 100 countries. Stripe helps new companies get started and grow their revenues, and established businesses accelerate into new markets and launch new business models.</p> <p class=\"no-margin m-founders\">FOUNDERS</p> <p class=\"margin-bottom-15\">Patrick Collison and John Collison</p> <div class=\"row scorColumn\"> <div class=\"col-sm-6 col-xs-6\"> <div class=\"row\"> <div class=\"col-sm-12 col-xs-12\"> <div><b class=\"text-uppercase\">Sector</b><p>Financial Technology and Services</p></div> </div> </div> <div class=\"row m-jobs-col\"> <div class=\"col-sm-12 col-xs-12\"> <div><b class=\"text-uppercase\">Jobs Created</b><p>2000</p></div> </div> </div> </div> <div class=\"col-sm-6 col-xs-6\"> <div class=\"row\"> <div class=\"col-sm-12 col-xs-12\"> <div><b class=\"text-uppercase\">HQ</b><p>San Francisco, CA</p></div> </div> <div class=\"col-sm-12 col-xs-12\"> <div><b class=\"text-uppercase\">YCG Batch</b><p>—</p></div> </div> <div class=\"col-sm-12 col-xs-12\"> <div><b class=\"text-uppercase\">Batch</b><p>S09</p> </div> </div> </div> </div> </div> </div>"
      ]
     },
     "execution_count": 14,
     "metadata": {},
     "output_type": "execute_result"
    }
   ],
   "source": [
    "mydivs[0]"
   ]
  },
  {
   "cell_type": "code",
   "execution_count": 15,
   "metadata": {},
   "outputs": [
    {
     "data": {
      "text/plain": [
       "'Stripe builds economic infrastructure for the internet. Businesses of every size use the company’s software to accept online payments and run technically sophisticated financial operations in more than 100 countries. Stripe helps new companies get started and grow their revenues, and established businesses accelerate into new markets and launch new business models.'"
      ]
     },
     "execution_count": 15,
     "metadata": {},
     "output_type": "execute_result"
    }
   ],
   "source": [
    "mydivs[0].findAll('p')[0].text"
   ]
  },
  {
   "cell_type": "code",
   "execution_count": 16,
   "metadata": {},
   "outputs": [
    {
     "data": {
      "text/plain": [
       "['Stripe builds economic infrastructure for the internet. Businesses of every size use the company’s software to accept online payments and run technically sophisticated financial operations in more than 100 countries. Stripe helps new companies get started and grow their revenues, and established businesses accelerate into new markets and launch new business models.',\n",
       " 'Airbnb exists to create a world where anyone can belong anywhere, providing healthy travel that is local, authentic, diverse, inclusive and sustainable. They empower people around the world to unlock and monetize their spaces, passions and talents to become hospitality entrepreneurs. Airbnb provides access to 6+ million unique places to stay in 100,000+ cities and 40,000+ unique experiences run by hosts.',\n",
       " 'Cruise is building the world’s most advanced, all-electric, self-driving car technology to safely connect people with the places, things, and experiences they care about. Self-driving cars will help save lives, reimagine cities, redefine time in transit, and restore freedom of movement for individuals who live in dense urban settings. Acquired by GM in 2016.',\n",
       " 'Starting with restaurants, DoorDash is building the last mile logistics network and commerce layer to help local businesses compete in the modern day era.',\n",
       " \"Coinbase is the easiest and most trusted place to buy, sell, and manage cryptocurrencies, offering a suite of products for individual investors, active traders, businesses and institutions. Coinbase has built the world's leading compliant crypto company serving over 30 million accounts in over 100 countries.\",\n",
       " 'Instacart is the North American leader in grocery delivery and one of the fastest-growing companies in e-commerce. Instacart’s same-day delivery and pickup services bring fresh groceries and everyday essentials to busy people and families across the U.S. and Canada in as fast as an hour. They deliver from more than 20,000 stores across more than 5,500 cities in North America.',\n",
       " \"Dropbox is a leading global collaboration platform that's transforming the way people work together, from the smallest business to the largest enterprise. With more than 500 million registered users across 180 countries, their products are designed to establish a more enlightened way of working. They went public in 2018.\",\n",
       " 'Ginkgo Bioworks is a biotech company that programs cells for customers across multiple markets.',\n",
       " 'Gusto is the people platform that provides small businesses with everything they need to take care of their teams, including payroll, health insurance benefits, employee self on-boarding, 401(K), time off requests, time tracking, and more. Gusto currently serves more than 100,000 small businesses across the U.S. and has a net promoter score of 75+.',\n",
       " 'Freight forwarding is the circulatory system for global trade. It still largely runs on paper. Flexport is changing this with a strategic operating model for modern businesses that powers more transparent, more agile, more efficient, and more profitable global supply chains.',\n",
       " 'Rappi is building on-demand delivery and financial services for Latin America.',\n",
       " 'Brex does corporate credit cards.',\n",
       " 'Reddit is a network of communities where individuals can find experiences built around their interests, hobbies and passions. Redditors submit, vote and comment on content, stories and discussions about the topics they care about the most. With over 330 million global users monthly, Reddit is home to the most open and authentic conversations on the Internet.',\n",
       " 'GitLab is a complete DevOps platform, delivered as a single application. Built on open source, GitLab leverages the community contributions of thousands of developers and millions of users to continuously deliver new DevOps innovations. More than 100,000 organizations from startups to global enterprise organizations trust GitLab to deliver great software at new speeds.',\n",
       " 'PagerDuty acts as the central nervous system for the digital enterprise. They empower DevOps, IT operations, support, security, and business leaders to turn any signal into insight and real-time action across any operational use case. Their products help organizations improve operations, accelerate innovation, increase revenue, mitigate security risk, and deliver great customer experience.',\n",
       " 'Checkr is disrupting the background check industry and creating solutions that will power the future of work. Checkr’s product has shifted the on-demand economy and has continued to scale into serving enterprise companies across various industries.',\n",
       " \"Segment is the world's leading provider of Customer Data Infrastructure (CDI). Thousands of companies across 71 countries, from high-growth startups to the world’s largest enterprises, use Segment to collect, clean and connect their first-party data to the applications they need to run their businesses.\",\n",
       " 'Docker provides a platform for building, sharing and running modern applications. With Docker, organizations have the freedom to build and manage any application from existing to greenfield and securely run them anywhere, from hybrid cloud to the edge — without technology or infrastructure lock-in.',\n",
       " 'Scale builds infrastructure to accelerate the development of AI. Their first product is a platform for training data and validation data to empower faster development.',\n",
       " 'Faire is a curated wholesale marketplace connecting more than 40,000 local retailers with thousands of hand-selected emerging and established brands. Faire enables independent retailers to grow with the advantages of big box terms, and empowers makers to build and run thriving businesses that create stronger local communities.',\n",
       " 'Twitch is a global community that comes together each day to create multiplayer entertainment: unique, live, unpredictable experiences created by the shared interactions of millions. Acquired by Amazon in 2014.',\n",
       " 'PlanGrid builds construction software. Acquired by Autodesk in 2018.',\n",
       " 'With Mixpanel, companies can analyze how and why their users engage, convert, and retain in real-time across web, mobile, and smart devices. And then use that data to improve their business and products—all in one place.',\n",
       " \"Amplitude is the world's #1 product intelligence platform. We empower teams to use customer data to build great product experiences for growth.\",\n",
       " 'Optimizely offers a complete set of digital experience optimization technologies, including AI-powered personalization and experimentation, which encompasses A/B testing, multivariate testing, and server-side testing. They take out the guesswork to enable brands to deliver relevant experiences driven by data.',\n",
       " 'Boom Supersonic is building Overture, history’s fastest commercial airliner. Boom’s vision is to bring families, businesses, and cultures closer together through supersonic travel and make the world dramatically more accessible. The company is backed by world-class investors and has 30 aircraft on pre-order from Japan Airlines and Virgin Group.',\n",
       " 'Grin is a micromobility and payments platform for Latam.',\n",
       " \"Meesho is India's largest social commerce platform. Meesho gives entrepreneurs a platform with social sharing integrations with WhatsApp, Facebook and Instagram, that let them easily share products with friends, family, and their larger social network. Meesho also provides them with the right supply, logistics and payment capabilities to successfully run their business.\",\n",
       " 'Algolia is the search-as-a-service platform that enables companies of all sizes to deliver fast, relevant and scalable search and discovery experiences for consumers across web, mobile, and voice. Algolia allows developers and product teams to build conversational, consumer-grade search to increase online engagement, conversion and revenue.',\n",
       " 'GOAT Group is the world’s largest marketplace for authentic sneakers. The company offers the greatest selection of sneakers available through retail stores, websites and mobile apps under the GOAT and Flight Club brands.',\n",
       " 'Zapier helps you be more productive and grow your business through automation.',\n",
       " 'MessageBird enables businesses to easily and seamlessly communicate with their customers across channels and geographies.',\n",
       " 'Standard Cognition is building autonomous checkout for everyone who is not Amazon.',\n",
       " 'Memebox is leading the future of beauty by building a portfolio of brands that leverages data and the most innovate k-beauty technology.',\n",
       " 'Embark builds self-driving trucks. Embark trucks are already moving commercial freight in the southwest United States under the supervision of a human monitor.',\n",
       " 'Helion Energy is breaking the fusion barrier and will be the first to clean, safe, and low-cost commercial electricity.',\n",
       " 'EquipmentShare provides smart jobsite technology & solutions to increase productivity for the construction industry. They rent machines to contractors and provide a single dashboard view of the connected jobsite.',\n",
       " 'SendBird is the no.1 chat API for mobile apps and websites. They power the world’s leading apps across on-demand services, marketplaces, and online communities.',\n",
       " \"Rescale is a cloud simulation platform that helps accelerate innovation for the world's leading enterprises. Their solutions empower executives, IT leaders, engineers, and scientists to deliver R&D breakthroughs in the aerospace, automotive, life sciences, manufacturing, oil & gas, and semiconductor sectors.\",\n",
       " 'GoCardless is reinventing recurring payments by building a global network on top of bank debit systems.',\n",
       " 'Rigetti Computing is on a mission to build the world’s most powerful computers to help solve humanity’s most important and pressing problems. They build and deliver integrated quantum-classical systems through their Quantum Cloud Services platform to help their customers solve valuable business problems in energy, finance, science, and medicine.',\n",
       " 'Razorpay is the easiest way to accept, process and disburse digital payments for businesses in India.',\n",
       " 'North is building everyday, fashion-first smartglasses.',\n",
       " 'Relativity is the first and only company to 3D print entire rockets, accelerating the ability to iterate and scale rockets quickly, and build the future of humanity in space.',\n",
       " 'Podium is an interaction management platform that helps local businesses conveniently connect with their customers. Podium facilitates millions of customer interactions by helping drive customer-generated online reviews and providing improved customer messaging tools. They currently serve more than 40,000 local businesses.',\n",
       " 'Benchling makes biotechnology research faster and more collaborative.',\n",
       " \"Ironclad is the digital contracting platform loved by modern legal teams. From making to managing, they automate every part of contracting, unlocking critical data that propels business forward. They're trusted by top brands like Dropbox, Fitbit and Staples.\",\n",
       " 'Newfront is building the modern platform to transact insurance. Their technology creates human-computer symbiosis that empowers rather than replaces people.',\n",
       " 'InfluxData, creator of the open source time series database InfluxDB, empowers developers and organizations to build transformative monitoring, analytics and IoT applications quicker and to scale. Their purpose-built platform handles the massive volumes of time-stamped data produced by IoT devices, applications, networks, containers and computers.',\n",
       " 'Webflow is a visual web development platform on a mission to democratize creation for the web. Over 50,000 businesses rely on Webflow for web design, development, content management, and hosting – all in a single, no-code platform.',\n",
       " 'People.ai accelerates enterprise growth through the power of AI. With the industry’s only Revenue Intelligence System, People.ai frees all customer-facing teams, including sales, marketing, and customer success, from manual data entry by automatically capturing all contacts and customer activity data. They dynamically update the CRM and provide actionable intelligence across all management tools.',\n",
       " 'Weebly allows anyone to start and grow an online business with curated website templates, powerful ecommerce and integrated marketing. Acquired by Square in 2018.',\n",
       " 'Xendit provides localized payments for Southeast Asia. Xendit helps you accept, store and send money at scale, reliably.',\n",
       " \"Matterport is the world leader in immersive 3D technology. They offer a platform for prosumers and professionals to easily capture, edit and share 3D models of physical spaces. These navigable virtual tours are presented in Matterport's photo-realistic digital media format. Experience places through Matterport's interactive 3D models online as if you are actually there: matterport.com/gallery.\",\n",
       " 'EasyPost builds logistics infrastructure for the internet. Businesses of every size—from new startups to public companies—use their software to manage everything from freight to package tracking.',\n",
       " 'Sift builds trust & safety solutions that secure and streamline experiences for leading digital commerce, community and content businesses. Their machine learning systems help prevent payments fraud, content spam, and account takeover while dynamically removing user friction and growing revenue.',\n",
       " 'The Athletic is subscription sports media for fans in the US, UK, and Canada. Top writers, deep storytelling with no ads, and over 100 podcasts keep fans all over the world informed on their favorite teams.',\n",
       " 'Mattermost is an open source alternative to Slack and Microsoft Teams. They offer a high trust, Slack-compatible messaging and collaboration platform for enterprises who value security, flexibility and innovation.',\n",
       " 'WePay is an integrated payments provider that helps SaaS companies offer payment processing to their users. Acquired by JPMorgan Chase in 2017.',\n",
       " 'Vidyard is a video platform that helps businesses transform communications and drive more revenue through the strategic use of online video.',\n",
       " 'Weave is a customer communication platform for high-touch, service-based businesses. They combine customer communication with in-depth customer profiles and data into one smart, care-centric interaction.',\n",
       " 'Nurx provides convenient, affordable, and personalized care to patients — offering birth control, emergency contraception, PrEP, HPV home testing, and STI home testing.',\n",
       " 'Proxy is a digital identity platform that empowers people to authenticate and interact with devices in the physical world using their smartphone.',\n",
       " 'Heap automatically captures every user interaction, including clicks, submits, taps, and more to retroactively analyze your data without writing code.',\n",
       " 'Presto is the leading provider of enterprise SaaS solutions for restaurants.',\n",
       " 'Payfazz creates a distributed network of bank agents in Indonesia, who can perform financial transactions on behalf of unbanked and underbanked customers.',\n",
       " 'MemSQL is a distributed, highly-scalable SQL database that can run anywhere.',\n",
       " \"Fivetran is a zero-configuration, fully-managed data pipeline that replicates all your company's databases, apps, and events into a single data warehouse.\",\n",
       " 'Rippling is the first way for businesses to manage their HR and IT — from payroll and benefits, to employee computers and apps — all in one, modern system.',\n",
       " \"Clever brings all K-12 schools' apps into one secure portal with a single sign-on for everyone in the district. It is used by over half of all schools in America.\",\n",
       " 'Heroku is a cloud platform that developers use to deliver, monitor, and scale modern apps. Acquired by Salesforce in 2010.',\n",
       " 'Fivestars is the largest rewards program for local businesses.',\n",
       " 'CoreOS develops open source tools that are the fundamental building blocks of modern distributed systems. Acquired by Red Hat in 2018.',\n",
       " \"ClearTax is the modern tax and finance platform for Indians. Using ClearTax's platform, over 4 million Indian consumers and businesses file taxes, identify tax saving opportunities, manage their investments, and get paid faster.\",\n",
       " 'Quero is a marketplace for higher education in Brazil. They help students search, compare, prepare, and enroll in private colleges.',\n",
       " 'Ridecell provides the technology needed to run and scale a standalone ridesharing or carsharing operation—or a hybrid service that combines both.',\n",
       " 'HelloSign’s digital workflow platform — which includes eSignature, digital workflow, and electronic fax solutions — helps over 75,000 companies and millions of people do business faster. Acquired by Dropbox in 2019.',\n",
       " 'GrubMarket is an eCommerce platform and company disrupting the food supply chain system. It supplies affordable and local farm products to business customers and individual consumers.',\n",
       " 'Lattice makes modern HR software for employee performance management and engagement surveys.',\n",
       " 'Unbabel is an AI powered human translation platform. With headquarters in Lisbon, Portugal, and San Francisco, California, the company is focused on the translation of customer service communications. Its customers include easyJet, Booking.com, Rovio Entertainment, Under Armour, Pinterest, and Facebook.',\n",
       " 'Athelas enables rapid at-home patient monitoring for a wide range of chronically ill populations.',\n",
       " 'Oh My Green brings delicious and nutritious food, healthy snacks, drinks, and wellness practices to the workplace.',\n",
       " 'Lever is recruiting software that provides companies with everything they need to attract, source, and hire top talent.',\n",
       " 'Atrium is a corporate law firm that uses technology to give startups a legal experience that is fast, transparent, and price-predictable.',\n",
       " 'Zeus leases unfurnished, privately-owned homes and converts them into expertly appointed, convenient, and full-service corporate housing units for today’s global professional.',\n",
       " 'Front is the shared inbox for teams — all your emails, apps, and teammates in one collaborative workspace.',\n",
       " 'Le Tote is a clothing rental subscription service featuring top brands. The company acquired the iconic retailer Lord & Taylor, which makes Le Tote the first digitally native brand to acquire an established brick-and-mortar store.',\n",
       " 'ShipBob provides simple, fast, and affordable fulfillment for ecommerce businesses and crowdfunding campaigns.',\n",
       " 'Snapdocs is a real estate technology company that helps the many participants in a real estate closing better work together through integration and automation. Their mission is to perfect real estate closings.',\n",
       " 'GitPrime provides analytics for software development teams. By analyzing metadata from git, code reviews, and issue trackers, they help engineering teams move faster, increase effectiveness, and debug their development process with data. Acquired by Pluralsight in 2019.',\n",
       " 'Scribd is a digital library, e-book and audiobook subscription service.',\n",
       " 'Guesty is property management software. Their solution simplifies the complex operational needs that property managers face on a daily basis – from guest communication to task assignment to payment processing.',\n",
       " 'Axoni’s distributed ledger technology provides secure, multi-party data infrastructure with unparalleled performance.',\n",
       " 'Founded in 2013 with a vision of automating the offline world, Lob is an API company that transforms the largely manual process of printing and mailing into an automated service that integrates directly with CRM, marketing automation, and data tools.',\n",
       " 'Notable is transforming the way cancer is treated. Notable’s approach combines AI with an automated lab to determine which drugs or combination of drugs will be most effective for specific types of cancers.',\n",
       " 'Atomwise discovers new medicines using computational design. Its discoveries help partners deliver better medicines faster.',\n",
       " 'Flutterwave is building digital payment infrastructure for Africa. Their API enables merchants to process credit cards and local alternative payments across Africa.',\n",
       " \"Panorama helps educators use data to support each student’s needs, and helps leaders build great schools. The platform helps build students' social-emotional skills and get more students prepared for college, their careers, and life.\",\n",
       " 'FutureAdvisor helps people reach their long-term financial goals by managing their savings and investments. Acquired by Blackrock in 2015.',\n",
       " 'SFOX is a better way to trade digital currencies, offering the best price and deepest liquidity with a single point of access to global cryptocurrency markets.',\n",
       " \"Lambda School is a revolutionary school that trains people to be software engineers and data scientists at no upfront cost. Students won't pay a cent until they land a job.\",\n",
       " 'ZeroDown is creating a new pathway to homeownership by enabling you to own a home without needing a downpayment.']"
      ]
     },
     "execution_count": 16,
     "metadata": {},
     "output_type": "execute_result"
    }
   ],
   "source": [
    "description = []\n",
    "for divs in range(len(mydivs)):\n",
    "    description.append(mydivs[divs].findAll('p')[0].text)\n",
    "description"
   ]
  },
  {
   "cell_type": "markdown",
   "metadata": {},
   "source": [
    "### Batch"
   ]
  },
  {
   "cell_type": "code",
   "execution_count": 17,
   "metadata": {},
   "outputs": [
    {
     "data": {
      "text/plain": [
       "['S09',\n",
       " 'W09',\n",
       " 'W14',\n",
       " 'S13',\n",
       " 'S12',\n",
       " 'S12',\n",
       " 'S07',\n",
       " 'S14',\n",
       " 'W12',\n",
       " 'W14',\n",
       " 'W16',\n",
       " 'W17',\n",
       " 'S05',\n",
       " 'W15',\n",
       " 'S10',\n",
       " 'S14',\n",
       " 'S11',\n",
       " 'S10',\n",
       " 'S16',\n",
       " 'W17',\n",
       " 'W07',\n",
       " 'W12',\n",
       " 'S09',\n",
       " 'W12',\n",
       " 'W10',\n",
       " 'W16',\n",
       " 'S18',\n",
       " 'S16',\n",
       " 'W14',\n",
       " 'W11',\n",
       " 'S12',\n",
       " 'S16',\n",
       " 'S17',\n",
       " 'W14',\n",
       " 'W16',\n",
       " 'S14',\n",
       " 'W15',\n",
       " 'W16',\n",
       " 'W12',\n",
       " 'S11',\n",
       " 'S14',\n",
       " 'W15',\n",
       " 'W13',\n",
       " 'W16',\n",
       " 'W16',\n",
       " 'S12',\n",
       " 'W15',\n",
       " 'W18',\n",
       " 'W13',\n",
       " 'S13',\n",
       " 'S16',\n",
       " 'W07',\n",
       " 'S15',\n",
       " 'W12',\n",
       " 'S13',\n",
       " 'S11',\n",
       " 'S16',\n",
       " 'S12',\n",
       " 'S09',\n",
       " 'S11',\n",
       " 'W14',\n",
       " 'W16',\n",
       " 'S16',\n",
       " 'W13',\n",
       " '—',\n",
       " 'S17',\n",
       " 'W11',\n",
       " 'W13',\n",
       " 'W17',\n",
       " 'S12',\n",
       " 'W08',\n",
       " 'W11',\n",
       " 'S13',\n",
       " 'S14',\n",
       " 'S16',\n",
       " 'W12',\n",
       " 'W11',\n",
       " 'W15',\n",
       " 'W16',\n",
       " 'W14',\n",
       " 'S16',\n",
       " 'S16',\n",
       " 'S12',\n",
       " 'W18',\n",
       " 'S11',\n",
       " 'S14',\n",
       " 'S13',\n",
       " 'S14',\n",
       " 'W14',\n",
       " 'W16',\n",
       " 'S06',\n",
       " 'W14',\n",
       " 'W14',\n",
       " 'S13',\n",
       " 'W15',\n",
       " 'W15',\n",
       " 'S16',\n",
       " 'S13',\n",
       " 'S10',\n",
       " 'S14',\n",
       " 'S17',\n",
       " 'W19']"
      ]
     },
     "execution_count": 17,
     "metadata": {},
     "output_type": "execute_result"
    }
   ],
   "source": [
    "# all sectors\n",
    "batch = []\n",
    "for i in range(len(mydivs)):\n",
    "    batch.append(mydivs[i].findAll('p')[7].text)\n",
    "batch"
   ]
  },
  {
   "cell_type": "markdown",
   "metadata": {},
   "source": [
    "## Adding into Excel"
   ]
  },
  {
   "cell_type": "code",
   "execution_count": 22,
   "metadata": {},
   "outputs": [
    {
     "ename": "NameError",
     "evalue": "name 'description' is not defined",
     "output_type": "error",
     "traceback": [
      "\u001b[0;31m---------------------------------------------------------------------------\u001b[0m",
      "\u001b[0;31mNameError\u001b[0m                                 Traceback (most recent call last)",
      "\u001b[0;32m<ipython-input-22-386821e81511>\u001b[0m in \u001b[0;36m<module>\u001b[0;34m\u001b[0m\n\u001b[1;32m      4\u001b[0m \u001b[0mf\u001b[0m \u001b[0;34m=\u001b[0m \u001b[0mopen\u001b[0m\u001b[0;34m(\u001b[0m\u001b[0;34m'dataoutput.csv'\u001b[0m\u001b[0;34m,\u001b[0m \u001b[0;34m'w'\u001b[0m\u001b[0;34m,\u001b[0m \u001b[0mnewline\u001b[0m\u001b[0;34m=\u001b[0m \u001b[0;34m''\u001b[0m\u001b[0;34m)\u001b[0m\u001b[0;34m\u001b[0m\u001b[0;34m\u001b[0m\u001b[0m\n\u001b[1;32m      5\u001b[0m \u001b[0mwriter\u001b[0m \u001b[0;34m=\u001b[0m \u001b[0mcsv\u001b[0m\u001b[0;34m.\u001b[0m\u001b[0mwriter\u001b[0m\u001b[0;34m(\u001b[0m\u001b[0mf\u001b[0m\u001b[0;34m,\u001b[0m \u001b[0mdelimiter\u001b[0m\u001b[0;34m=\u001b[0m\u001b[0;34m','\u001b[0m\u001b[0;34m)\u001b[0m\u001b[0;34m\u001b[0m\u001b[0;34m\u001b[0m\u001b[0m\n\u001b[0;32m----> 6\u001b[0;31m \u001b[0mwriter\u001b[0m\u001b[0;34m.\u001b[0m\u001b[0mwriterow\u001b[0m\u001b[0;34m(\u001b[0m\u001b[0;34m[\u001b[0m\u001b[0mcompany\u001b[0m\u001b[0;34m,\u001b[0m \u001b[0mrank\u001b[0m\u001b[0;34m,\u001b[0m \u001b[0mfounders\u001b[0m\u001b[0;34m,\u001b[0m \u001b[0msectors\u001b[0m\u001b[0;34m,\u001b[0m \u001b[0mbatch\u001b[0m\u001b[0;34m,\u001b[0m \u001b[0mjobs_created\u001b[0m\u001b[0;34m,\u001b[0m \u001b[0mdescription\u001b[0m\u001b[0;34m]\u001b[0m\u001b[0;34m)\u001b[0m\u001b[0;34m\u001b[0m\u001b[0;34m\u001b[0m\u001b[0m\n\u001b[0m",
      "\u001b[0;31mNameError\u001b[0m: name 'description' is not defined"
     ]
    }
   ],
   "source": [
    "## Part 2\n",
    "#Put data into CSV and then open in Excel\n",
    "\n",
    "f = open('dataoutput.csv', 'w', newline= '')\n",
    "writer = csv.writer(f, delimiter=',')\n",
    "writer.writerow([company, rank, founders, sectors, batch, jobs_created, description])"
   ]
  },
  {
   "cell_type": "code",
   "execution_count": null,
   "metadata": {},
   "outputs": [],
   "source": []
  },
  {
   "cell_type": "code",
   "execution_count": null,
   "metadata": {},
   "outputs": [],
   "source": []
  },
  {
   "cell_type": "code",
   "execution_count": null,
   "metadata": {},
   "outputs": [],
   "source": []
  },
  {
   "cell_type": "code",
   "execution_count": null,
   "metadata": {},
   "outputs": [],
   "source": []
  }
 ],
 "metadata": {
  "kernelspec": {
   "display_name": "Python 3",
   "language": "python",
   "name": "python3"
  },
  "language_info": {
   "codemirror_mode": {
    "name": "ipython",
    "version": 3
   },
   "file_extension": ".py",
   "mimetype": "text/x-python",
   "name": "python",
   "nbconvert_exporter": "python",
   "pygments_lexer": "ipython3",
   "version": "3.6.7"
  }
 },
 "nbformat": 4,
 "nbformat_minor": 2
}
