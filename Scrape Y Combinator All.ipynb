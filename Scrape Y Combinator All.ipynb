{
 "cells": [
  {
   "cell_type": "markdown",
   "metadata": {},
   "source": [
    "## Scraped Y Combinator's Top Companies and Added Data Into Excel"
   ]
  },
  {
   "cell_type": "code",
   "execution_count": 1,
   "metadata": {},
   "outputs": [],
   "source": [
    "import csv\n",
    "import requests\n",
    "import urllib.request\n",
    "from bs4 import BeautifulSoup\n",
    "\n",
    "url = 'https://www.ycombinator.com/topcompanies/'\n",
    "response = requests.get(url)\n",
    "html = response.content\n",
    "\n",
    "soup = BeautifulSoup(html)"
   ]
  },
  {
   "cell_type": "code",
   "execution_count": 2,
   "metadata": {},
   "outputs": [],
   "source": [
    "mydivs = soup.findAll(\"div\", class_=\"detailsBox\")"
   ]
  },
  {
   "cell_type": "markdown",
   "metadata": {},
   "source": [
    "### All Companies"
   ]
  },
  {
   "cell_type": "code",
   "execution_count": 3,
   "metadata": {},
   "outputs": [],
   "source": [
    "company = []\n",
    "for divs in range(len(mydivs)):\n",
    "    company.append(mydivs[divs].find('b', class_='h4').text)\n",
    "#company"
   ]
  },
  {
   "cell_type": "markdown",
   "metadata": {},
   "source": [
    "### Company Rank"
   ]
  },
  {
   "cell_type": "code",
   "execution_count": 4,
   "metadata": {
    "scrolled": true
   },
   "outputs": [
    {
     "data": {
      "text/plain": [
       "'#01'"
      ]
     },
     "execution_count": 4,
     "metadata": {},
     "output_type": "execute_result"
    }
   ],
   "source": [
    "# one company's rank\n",
    "\n",
    "rank = mydivs[0].findAll(text=True)[1]\n",
    "rank = mydivs[0].find('span').text\n",
    "rank"
   ]
  },
  {
   "cell_type": "code",
   "execution_count": 5,
   "metadata": {},
   "outputs": [],
   "source": [
    "# all company ranks\n",
    "ranks = []\n",
    "for divs in range(len(mydivs)):\n",
    "    ranks.append(mydivs[divs].span.text)\n",
    "# ranks"
   ]
  },
  {
   "cell_type": "markdown",
   "metadata": {},
   "source": [
    "### Founders"
   ]
  },
  {
   "cell_type": "code",
   "execution_count": 6,
   "metadata": {},
   "outputs": [
    {
     "data": {
      "text/plain": [
       "'Patrick Collison and John Collison'"
      ]
     },
     "execution_count": 6,
     "metadata": {},
     "output_type": "execute_result"
    }
   ],
   "source": [
    "#One set of founders for a company\n",
    "mydivs[0].findAll('p', class_='margin-bottom-15')[1].text"
   ]
  },
  {
   "cell_type": "code",
   "execution_count": 7,
   "metadata": {},
   "outputs": [],
   "source": [
    "# All founders\n",
    "founders = []\n",
    "for i in range(len(mydivs)):\n",
    "    founders.append(mydivs[i].findAll('p', class_='margin-bottom-15')[1].text)\n",
    "# founders"
   ]
  },
  {
   "cell_type": "markdown",
   "metadata": {},
   "source": [
    "### Sector"
   ]
  },
  {
   "cell_type": "code",
   "execution_count": 8,
   "metadata": {},
   "outputs": [
    {
     "data": {
      "text/plain": [
       "<p>Financial Technology and Services</p>"
      ]
     },
     "execution_count": 8,
     "metadata": {},
     "output_type": "execute_result"
    }
   ],
   "source": [
    "# One sector for a company\n",
    "mydivs[0].findAll('p')[3]"
   ]
  },
  {
   "cell_type": "code",
   "execution_count": 9,
   "metadata": {
    "scrolled": true
   },
   "outputs": [],
   "source": [
    "# all sectors\n",
    "sectors = []\n",
    "for i in range(len(mydivs)):\n",
    "    sectors.append(mydivs[i].findAll('p')[3].text)\n",
    "# sectors"
   ]
  },
  {
   "cell_type": "markdown",
   "metadata": {},
   "source": [
    "### Jobs Created"
   ]
  },
  {
   "cell_type": "code",
   "execution_count": 10,
   "metadata": {},
   "outputs": [],
   "source": [
    "# all sectors\n",
    "jobs_created = []\n",
    "for i in range(len(mydivs)):\n",
    "    jobs_created.append(mydivs[i].findAll('p')[4].text)\n",
    "# jobs_created"
   ]
  },
  {
   "cell_type": "markdown",
   "metadata": {},
   "source": [
    "### Company Description"
   ]
  },
  {
   "cell_type": "code",
   "execution_count": 11,
   "metadata": {},
   "outputs": [
    {
     "data": {
      "text/plain": [
       "'Stripe builds economic infrastructure for the internet. Businesses of every size use the company’s software to accept online payments and run technically sophisticated financial operations in more than 100 countries. Stripe helps new companies get started and grow their revenues, and established businesses accelerate into new markets and launch new business models.'"
      ]
     },
     "execution_count": 11,
     "metadata": {},
     "output_type": "execute_result"
    }
   ],
   "source": [
    "# one company description\n",
    "mydivs[0].findAll('p')[0].text"
   ]
  },
  {
   "cell_type": "code",
   "execution_count": 12,
   "metadata": {},
   "outputs": [],
   "source": [
    "# all company descriptions\n",
    "description = []\n",
    "for divs in range(len(mydivs)):\n",
    "    description.append(mydivs[divs].findAll('p')[0].text)\n",
    "# description"
   ]
  },
  {
   "cell_type": "markdown",
   "metadata": {},
   "source": [
    "### Batch"
   ]
  },
  {
   "cell_type": "code",
   "execution_count": 13,
   "metadata": {},
   "outputs": [],
   "source": [
    "# all batches\n",
    "batches = []\n",
    "for i in range(len(mydivs)):\n",
    "    batches.append(mydivs[i].findAll('p')[7].text)\n",
    "# batches"
   ]
  },
  {
   "cell_type": "markdown",
   "metadata": {},
   "source": [
    "## Adding into Excel"
   ]
  },
  {
   "cell_type": "code",
   "execution_count": 37,
   "metadata": {},
   "outputs": [],
   "source": [
    "## Part 2\n",
    "#Put data into CSV and then open in Excel\n",
    "# possibly add headers\n",
    "# newFN = ['Rank', 'Company', 'Founders', 'Sector', 'Batch', 'Number of Jobs Created', 'Company Description']\n",
    "# writer.writerow(newFN)\n",
    "\n",
    "f = open('dataoutput.csv', 'w', newline= '')\n",
    "writer = csv.writer(f, delimiter=',', dialect='excel')\n",
    "results = [ranks, company, founders, sectors, batches, jobs_created, description]\n",
    "for result in results:\n",
    "    writer.writerow([results])\n",
    "\n",
    "# writer.writerows([ranks, company, founders, sectors, batches, jobs_created, description])"
   ]
  },
  {
   "cell_type": "code",
   "execution_count": 22,
   "metadata": {},
   "outputs": [
    {
     "data": {
      "text/html": [
       "<div>\n",
       "<style scoped>\n",
       "    .dataframe tbody tr th:only-of-type {\n",
       "        vertical-align: middle;\n",
       "    }\n",
       "\n",
       "    .dataframe tbody tr th {\n",
       "        vertical-align: top;\n",
       "    }\n",
       "\n",
       "    .dataframe thead th {\n",
       "        text-align: right;\n",
       "    }\n",
       "</style>\n",
       "<table border=\"1\" class=\"dataframe\">\n",
       "  <thead>\n",
       "    <tr style=\"text-align: right;\">\n",
       "      <th></th>\n",
       "      <th>#01</th>\n",
       "      <th>#02</th>\n",
       "      <th>#03</th>\n",
       "      <th>#04</th>\n",
       "      <th>#05</th>\n",
       "      <th>#06</th>\n",
       "      <th>#07</th>\n",
       "      <th>#08</th>\n",
       "      <th>#09</th>\n",
       "      <th>#10</th>\n",
       "      <th>...</th>\n",
       "      <th>#93</th>\n",
       "      <th>#94</th>\n",
       "      <th>#95</th>\n",
       "      <th>#96</th>\n",
       "      <th>#97</th>\n",
       "      <th>#98</th>\n",
       "      <th>#99</th>\n",
       "      <th>#100</th>\n",
       "      <th>#101</th>\n",
       "      <th>#102</th>\n",
       "    </tr>\n",
       "  </thead>\n",
       "  <tbody>\n",
       "    <tr>\n",
       "      <th>0</th>\n",
       "      <td>Stripe</td>\n",
       "      <td>Airbnb</td>\n",
       "      <td>Cruise</td>\n",
       "      <td>DoorDash</td>\n",
       "      <td>Coinbase</td>\n",
       "      <td>Instacart</td>\n",
       "      <td>Dropbox</td>\n",
       "      <td>Ginkgo Bioworks</td>\n",
       "      <td>Gusto</td>\n",
       "      <td>Flexport</td>\n",
       "      <td>...</td>\n",
       "      <td>Axoni</td>\n",
       "      <td>Lob</td>\n",
       "      <td>Notable</td>\n",
       "      <td>Atomwise Inc</td>\n",
       "      <td>Flutterwave Inc</td>\n",
       "      <td>Panorama Education</td>\n",
       "      <td>FutureAdvisor</td>\n",
       "      <td>SFOX</td>\n",
       "      <td>Lambda School</td>\n",
       "      <td>ZeroDown</td>\n",
       "    </tr>\n",
       "    <tr>\n",
       "      <th>1</th>\n",
       "      <td>Patrick Collison and John Collison</td>\n",
       "      <td>Brian Chesky, Joe Gebbia, Nathan Blecharczyk</td>\n",
       "      <td>Kyle Vogt and Daniel Kan</td>\n",
       "      <td>Tony Xu, Andy Fang, Stanley Tang</td>\n",
       "      <td>Brian Armstrong and Fred Ehrsam</td>\n",
       "      <td>Apoorva Mehta, Max Mullen, Brandon Leonardo</td>\n",
       "      <td>Drew Houston and Arash Ferdowsi</td>\n",
       "      <td>Reshma Shetty, Austin Che, Barry Canton, Tom K...</td>\n",
       "      <td>Josh Reeves, Eddie Kim, Tomer London</td>\n",
       "      <td>Ryan Petersen</td>\n",
       "      <td>...</td>\n",
       "      <td>Jeff Schvey and Greg Schvey</td>\n",
       "      <td>Leore Avidar and Harry Zhang</td>\n",
       "      <td>Matt De Silva, Pete Quinzio, Diane Heiser PhD</td>\n",
       "      <td>Abraham Heifets and Izhar Wallach</td>\n",
       "      <td>Olugbenga GB Agboola and Iyinoluwa Aboyeji</td>\n",
       "      <td>Aaron Feuer and Xan Tanner</td>\n",
       "      <td>Jon Xu and Bo Lu</td>\n",
       "      <td>Akbar Thobhani and George Melika</td>\n",
       "      <td>Austen Allred and Ben Nelson</td>\n",
       "      <td>Abhijeet Dwivedi, Laks Srini, Hari Viswanathan</td>\n",
       "    </tr>\n",
       "    <tr>\n",
       "      <th>2</th>\n",
       "      <td>Financial Technology and Services</td>\n",
       "      <td>Consumer Goods and Services</td>\n",
       "      <td>Automotive</td>\n",
       "      <td>Consumer Goods and Services</td>\n",
       "      <td>Financial Technology and Services</td>\n",
       "      <td>Consumer Goods and Services</td>\n",
       "      <td>B2B Software and Services</td>\n",
       "      <td>Biotech</td>\n",
       "      <td>B2B Software and Services</td>\n",
       "      <td>B2B Software and Services</td>\n",
       "      <td>...</td>\n",
       "      <td>Financial Technology and Services</td>\n",
       "      <td>B2B Software and Services</td>\n",
       "      <td>Biotech</td>\n",
       "      <td>Biotech</td>\n",
       "      <td>Financial Technology and Services</td>\n",
       "      <td>Education</td>\n",
       "      <td>Financial Technology and Services</td>\n",
       "      <td>Financial Technology and Services</td>\n",
       "      <td>Education</td>\n",
       "      <td>Financial Technology and Services</td>\n",
       "    </tr>\n",
       "    <tr>\n",
       "      <th>3</th>\n",
       "      <td>S09</td>\n",
       "      <td>W09</td>\n",
       "      <td>W14</td>\n",
       "      <td>S13</td>\n",
       "      <td>S12</td>\n",
       "      <td>S12</td>\n",
       "      <td>S07</td>\n",
       "      <td>S14</td>\n",
       "      <td>W12</td>\n",
       "      <td>W14</td>\n",
       "      <td>...</td>\n",
       "      <td>W14</td>\n",
       "      <td>S13</td>\n",
       "      <td>W15</td>\n",
       "      <td>W15</td>\n",
       "      <td>S16</td>\n",
       "      <td>S13</td>\n",
       "      <td>S10</td>\n",
       "      <td>S14</td>\n",
       "      <td>S17</td>\n",
       "      <td>W19</td>\n",
       "    </tr>\n",
       "    <tr>\n",
       "      <th>4</th>\n",
       "      <td>2000</td>\n",
       "      <td>6000</td>\n",
       "      <td>1500</td>\n",
       "      <td>1800</td>\n",
       "      <td>1000</td>\n",
       "      <td>1100</td>\n",
       "      <td>2300</td>\n",
       "      <td>270</td>\n",
       "      <td>1000</td>\n",
       "      <td>1700</td>\n",
       "      <td>...</td>\n",
       "      <td>80</td>\n",
       "      <td>92</td>\n",
       "      <td>35</td>\n",
       "      <td>40</td>\n",
       "      <td>120</td>\n",
       "      <td>140</td>\n",
       "      <td>85</td>\n",
       "      <td>35</td>\n",
       "      <td>140</td>\n",
       "      <td>15</td>\n",
       "    </tr>\n",
       "    <tr>\n",
       "      <th>5</th>\n",
       "      <td>Stripe builds economic infrastructure for the ...</td>\n",
       "      <td>Airbnb exists to create a world where anyone c...</td>\n",
       "      <td>Cruise is building the world’s most advanced, ...</td>\n",
       "      <td>Starting with restaurants, DoorDash is buildin...</td>\n",
       "      <td>Coinbase is the easiest and most trusted place...</td>\n",
       "      <td>Instacart is the North American leader in groc...</td>\n",
       "      <td>Dropbox is a leading global collaboration plat...</td>\n",
       "      <td>Ginkgo Bioworks is a biotech company that prog...</td>\n",
       "      <td>Gusto is the people platform that provides sma...</td>\n",
       "      <td>Freight forwarding is the circulatory system f...</td>\n",
       "      <td>...</td>\n",
       "      <td>Axoni’s distributed ledger technology provides...</td>\n",
       "      <td>Founded in 2013 with a vision of automating th...</td>\n",
       "      <td>Notable is transforming the way cancer is trea...</td>\n",
       "      <td>Atomwise discovers new medicines using computa...</td>\n",
       "      <td>Flutterwave is building digital payment infras...</td>\n",
       "      <td>Panorama helps educators use data to support e...</td>\n",
       "      <td>FutureAdvisor helps people reach their long-te...</td>\n",
       "      <td>SFOX is a better way to trade digital currenci...</td>\n",
       "      <td>Lambda School is a revolutionary school that t...</td>\n",
       "      <td>ZeroDown is creating a new pathway to homeowne...</td>\n",
       "    </tr>\n",
       "  </tbody>\n",
       "</table>\n",
       "<p>6 rows × 102 columns</p>\n",
       "</div>"
      ],
      "text/plain": [
       "                                                 #01  \\\n",
       "0                                             Stripe   \n",
       "1                 Patrick Collison and John Collison   \n",
       "2                  Financial Technology and Services   \n",
       "3                                                S09   \n",
       "4                                               2000   \n",
       "5  Stripe builds economic infrastructure for the ...   \n",
       "\n",
       "                                                 #02  \\\n",
       "0                                             Airbnb   \n",
       "1       Brian Chesky, Joe Gebbia, Nathan Blecharczyk   \n",
       "2                        Consumer Goods and Services   \n",
       "3                                                W09   \n",
       "4                                               6000   \n",
       "5  Airbnb exists to create a world where anyone c...   \n",
       "\n",
       "                                                 #03  \\\n",
       "0                                             Cruise   \n",
       "1                           Kyle Vogt and Daniel Kan   \n",
       "2                                         Automotive   \n",
       "3                                                W14   \n",
       "4                                               1500   \n",
       "5  Cruise is building the world’s most advanced, ...   \n",
       "\n",
       "                                                 #04  \\\n",
       "0                                           DoorDash   \n",
       "1                   Tony Xu, Andy Fang, Stanley Tang   \n",
       "2                        Consumer Goods and Services   \n",
       "3                                                S13   \n",
       "4                                               1800   \n",
       "5  Starting with restaurants, DoorDash is buildin...   \n",
       "\n",
       "                                                 #05  \\\n",
       "0                                           Coinbase   \n",
       "1                    Brian Armstrong and Fred Ehrsam   \n",
       "2                  Financial Technology and Services   \n",
       "3                                                S12   \n",
       "4                                               1000   \n",
       "5  Coinbase is the easiest and most trusted place...   \n",
       "\n",
       "                                                 #06  \\\n",
       "0                                          Instacart   \n",
       "1        Apoorva Mehta, Max Mullen, Brandon Leonardo   \n",
       "2                        Consumer Goods and Services   \n",
       "3                                                S12   \n",
       "4                                               1100   \n",
       "5  Instacart is the North American leader in groc...   \n",
       "\n",
       "                                                 #07  \\\n",
       "0                                            Dropbox   \n",
       "1                   Drew Houston and Arash Ferdowsi    \n",
       "2                          B2B Software and Services   \n",
       "3                                                S07   \n",
       "4                                               2300   \n",
       "5  Dropbox is a leading global collaboration plat...   \n",
       "\n",
       "                                                 #08  \\\n",
       "0                                    Ginkgo Bioworks   \n",
       "1  Reshma Shetty, Austin Che, Barry Canton, Tom K...   \n",
       "2                                            Biotech   \n",
       "3                                                S14   \n",
       "4                                                270   \n",
       "5  Ginkgo Bioworks is a biotech company that prog...   \n",
       "\n",
       "                                                 #09  \\\n",
       "0                                              Gusto   \n",
       "1               Josh Reeves, Eddie Kim, Tomer London   \n",
       "2                          B2B Software and Services   \n",
       "3                                                W12   \n",
       "4                                               1000   \n",
       "5  Gusto is the people platform that provides sma...   \n",
       "\n",
       "                                                 #10  \\\n",
       "0                                           Flexport   \n",
       "1                                      Ryan Petersen   \n",
       "2                          B2B Software and Services   \n",
       "3                                                W14   \n",
       "4                                               1700   \n",
       "5  Freight forwarding is the circulatory system f...   \n",
       "\n",
       "                         ...                          \\\n",
       "0                        ...                           \n",
       "1                        ...                           \n",
       "2                        ...                           \n",
       "3                        ...                           \n",
       "4                        ...                           \n",
       "5                        ...                           \n",
       "\n",
       "                                                 #93  \\\n",
       "0                                              Axoni   \n",
       "1                        Jeff Schvey and Greg Schvey   \n",
       "2                  Financial Technology and Services   \n",
       "3                                                W14   \n",
       "4                                                 80   \n",
       "5  Axoni’s distributed ledger technology provides...   \n",
       "\n",
       "                                                 #94  \\\n",
       "0                                                Lob   \n",
       "1                       Leore Avidar and Harry Zhang   \n",
       "2                          B2B Software and Services   \n",
       "3                                                S13   \n",
       "4                                                 92   \n",
       "5  Founded in 2013 with a vision of automating th...   \n",
       "\n",
       "                                                 #95  \\\n",
       "0                                            Notable   \n",
       "1      Matt De Silva, Pete Quinzio, Diane Heiser PhD   \n",
       "2                                            Biotech   \n",
       "3                                                W15   \n",
       "4                                                 35   \n",
       "5  Notable is transforming the way cancer is trea...   \n",
       "\n",
       "                                                 #96  \\\n",
       "0                                       Atomwise Inc   \n",
       "1                  Abraham Heifets and Izhar Wallach   \n",
       "2                                            Biotech   \n",
       "3                                                W15   \n",
       "4                                                 40   \n",
       "5  Atomwise discovers new medicines using computa...   \n",
       "\n",
       "                                                 #97  \\\n",
       "0                                    Flutterwave Inc   \n",
       "1         Olugbenga GB Agboola and Iyinoluwa Aboyeji   \n",
       "2                  Financial Technology and Services   \n",
       "3                                                S16   \n",
       "4                                                120   \n",
       "5  Flutterwave is building digital payment infras...   \n",
       "\n",
       "                                                 #98  \\\n",
       "0                                 Panorama Education   \n",
       "1                         Aaron Feuer and Xan Tanner   \n",
       "2                                          Education   \n",
       "3                                                S13   \n",
       "4                                                140   \n",
       "5  Panorama helps educators use data to support e...   \n",
       "\n",
       "                                                 #99  \\\n",
       "0                                      FutureAdvisor   \n",
       "1                                   Jon Xu and Bo Lu   \n",
       "2                  Financial Technology and Services   \n",
       "3                                                S10   \n",
       "4                                                 85   \n",
       "5  FutureAdvisor helps people reach their long-te...   \n",
       "\n",
       "                                                #100  \\\n",
       "0                                               SFOX   \n",
       "1                   Akbar Thobhani and George Melika   \n",
       "2                  Financial Technology and Services   \n",
       "3                                                S14   \n",
       "4                                                 35   \n",
       "5  SFOX is a better way to trade digital currenci...   \n",
       "\n",
       "                                                #101  \\\n",
       "0                                      Lambda School   \n",
       "1                       Austen Allred and Ben Nelson   \n",
       "2                                          Education   \n",
       "3                                                S17   \n",
       "4                                                140   \n",
       "5  Lambda School is a revolutionary school that t...   \n",
       "\n",
       "                                                #102  \n",
       "0                                           ZeroDown  \n",
       "1     Abhijeet Dwivedi, Laks Srini, Hari Viswanathan  \n",
       "2                  Financial Technology and Services  \n",
       "3                                                W19  \n",
       "4                                                 15  \n",
       "5  ZeroDown is creating a new pathway to homeowne...  \n",
       "\n",
       "[6 rows x 102 columns]"
      ]
     },
     "execution_count": 22,
     "metadata": {},
     "output_type": "execute_result"
    }
   ],
   "source": [
    "import pandas as pd\n",
    "pd.read_csv('dataoutput.csv')\n"
   ]
  },
  {
   "cell_type": "code",
   "execution_count": null,
   "metadata": {},
   "outputs": [],
   "source": []
  },
  {
   "cell_type": "code",
   "execution_count": null,
   "metadata": {},
   "outputs": [],
   "source": []
  },
  {
   "cell_type": "code",
   "execution_count": null,
   "metadata": {},
   "outputs": [],
   "source": []
  }
 ],
 "metadata": {
  "kernelspec": {
   "display_name": "Python 3",
   "language": "python",
   "name": "python3"
  },
  "language_info": {
   "codemirror_mode": {
    "name": "ipython",
    "version": 3
   },
   "file_extension": ".py",
   "mimetype": "text/x-python",
   "name": "python",
   "nbconvert_exporter": "python",
   "pygments_lexer": "ipython3",
   "version": "3.6.7"
  }
 },
 "nbformat": 4,
 "nbformat_minor": 2
}
